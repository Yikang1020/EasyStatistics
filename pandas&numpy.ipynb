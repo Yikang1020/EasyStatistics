{
  "nbformat": 4,
  "nbformat_minor": 0,
  "metadata": {
    "colab": {
      "provenance": [],
      "authorship_tag": "ABX9TyOYjehk1G3XOiVF5+1hWhlV",
      "include_colab_link": true
    },
    "kernelspec": {
      "name": "python3",
      "display_name": "Python 3"
    },
    "language_info": {
      "name": "python"
    }
  },
  "cells": [
    {
      "cell_type": "markdown",
      "metadata": {
        "id": "view-in-github",
        "colab_type": "text"
      },
      "source": [
        "<a href=\"https://colab.research.google.com/github/Yikang1020/Statistics-for-neuroscience/blob/main/pandas%26numpy.ipynb\" target=\"_parent\"><img src=\"https://colab.research.google.com/assets/colab-badge.svg\" alt=\"Open In Colab\"/></a>"
      ]
    },
    {
      "cell_type": "markdown",
      "source": [
        "# numpy"
      ],
      "metadata": {
        "id": "Io5euITg5n4A"
      }
    },
    {
      "cell_type": "code",
      "source": [
        "import numpy as np"
      ],
      "metadata": {
        "id": "_dUwnwOtdxSW"
      },
      "execution_count": 2,
      "outputs": []
    },
    {
      "cell_type": "markdown",
      "source": [
        "## argpartition()\n",
        "argpartition() can find the index of the n maximum, and output the indexs."
      ],
      "metadata": {
        "id": "HtOgMzo1eOGO"
      }
    },
    {
      "cell_type": "code",
      "execution_count": 97,
      "metadata": {
        "id": "gCns6y8UdgqK"
      },
      "outputs": [],
      "source": [
        "# define a array\n",
        "x = np.array([12, 10, 12, 0, 6, 8, 9, 1, 16, 4, 6, 0])\n",
        "# extract the max 4 indexs\n",
        "index_val = np.argpartition(x,-4)[-4:]\n",
        "# sort the values\n",
        "np.sort(x[index_val])"
      ]
    },
    {
      "cell_type": "markdown",
      "source": [
        "## allclose()\n",
        "\n",
        "allclose() is to match two arrays."
      ],
      "metadata": {
        "id": "sduC9z2tm6yc"
      }
    },
    {
      "cell_type": "code",
      "source": [
        "# create two arrays\n",
        "array1 = np.array([0.12,0.17,0.24,0.29])\n",
        "array2 = np.array([0.13,0.19,0.26,0.31])\n",
        "# with a tolerance of 0.1, it should return False:\n",
        "print(np.allclose(array1,array2,0.1))\n",
        "# with a tolerance of 0.2, it should return True:\n",
        "print(np.allclose(array1,array2,0.2))"
      ],
      "metadata": {
        "id": "4hHPB2NBpX-6",
        "outputId": "ed501aec-2c10-40ed-98e1-6270f1852b6f",
        "colab": {
          "base_uri": "https://localhost:8080/"
        }
      },
      "execution_count": 100,
      "outputs": [
        {
          "output_type": "stream",
          "name": "stdout",
          "text": [
            "False\n",
            "True\n"
          ]
        }
      ]
    },
    {
      "cell_type": "markdown",
      "source": [
        "## clip()\n",
        "\n",
        "clip() can keep an array in a interval."
      ],
      "metadata": {
        "id": "q2JbZ2KUp7xC"
      }
    },
    {
      "cell_type": "code",
      "source": [
        "# create an array\n",
        "x = np.array([3, 17, 14, 23, 2, 2, 6, 8, 1, 2, 16, 0])\n",
        "# keep the value in [2,5]\n",
        "np.clip(x,2,5)"
      ],
      "metadata": {
        "id": "GgDeh0rSphp_",
        "outputId": "04633d72-9609-4591-c938-9256ff57aa7e",
        "colab": {
          "base_uri": "https://localhost:8080/"
        }
      },
      "execution_count": 102,
      "outputs": [
        {
          "output_type": "execute_result",
          "data": {
            "text/plain": [
              "array([3, 5, 5, 5, 2, 2, 5, 5, 2, 2, 5, 2])"
            ]
          },
          "metadata": {},
          "execution_count": 102
        }
      ]
    },
    {
      "cell_type": "markdown",
      "source": [
        "## extract()\n",
        "\n",
        "extract() can obtain specific element. "
      ],
      "metadata": {
        "id": "A5rkdHNcrAiD"
      }
    },
    {
      "cell_type": "code",
      "source": [
        "# create an array\n",
        "x = np.random.randint(20, size=12)\n",
        "# Divide by 2 and check if remainder is 1\n",
        "cond = np.mod(x, 2)==1\n",
        "# Acquire the array whose remainder is 1\n",
        "print(np.extract(cond,x))\n",
        "# Acquire the array between [3,15]\n",
        "print(np.extract(((x<3)|(x>15)),x))\n"
      ],
      "metadata": {
        "id": "H8x3mBwrqLXb",
        "outputId": "4cdc6ff7-1606-4645-f27d-a848df905060",
        "colab": {
          "base_uri": "https://localhost:8080/"
        }
      },
      "execution_count": 105,
      "outputs": [
        {
          "output_type": "stream",
          "name": "stdout",
          "text": [
            "[11 17 15 11  5 13 19]\n",
            "[17 16  0 19  0 18]\n"
          ]
        }
      ]
    },
    {
      "cell_type": "markdown",
      "source": [
        "## where()\n",
        "\n",
        "where() return the specific element meeting the requirement."
      ],
      "metadata": {
        "id": "bY3R_LSMshPb"
      }
    },
    {
      "cell_type": "code",
      "source": [
        "# Create an array\n",
        "x = np.array([1,5,6,8,1,7,3,6,9])\n",
        "# Where y is greater than 5, returns index position\n",
        "print(np.where(x>5))\n",
        "print(x[np.where(x>5)])\n",
        "# First will replace the values that match the condition, \n",
        "# second will replace the values that does not\n",
        "print(np.where(x>5, \"Hit\", \"Miss\"))"
      ],
      "metadata": {
        "id": "SIjiyb4NsLRk",
        "outputId": "52fcfb87-ae8c-4958-e4f3-554aee9930c3",
        "colab": {
          "base_uri": "https://localhost:8080/"
        }
      },
      "execution_count": 111,
      "outputs": [
        {
          "output_type": "stream",
          "name": "stdout",
          "text": [
            "(array([2, 3, 5, 7, 8]),)\n",
            "[6 8 7 6 9]\n",
            "['Miss' 'Miss' 'Hit' 'Hit' 'Miss' 'Hit' 'Miss' 'Hit' 'Hit']\n"
          ]
        }
      ]
    },
    {
      "cell_type": "markdown",
      "source": [
        "## percentile\n",
        "\n",
        "percentile() can used to computate the nth percentile of specific axis."
      ],
      "metadata": {
        "id": "6wVhY4Rb2btQ"
      }
    },
    {
      "cell_type": "code",
      "source": [
        "# create the array\n",
        "a = np.array([1,5,6,8,1,7,3,6,9])\n",
        "# print the 50th percentile\n",
        "print(\"50th Percentile of a, axis = 0 : \",np.percentile(a, 50, axis =0))\n",
        "# create the array\n",
        "b = np.array([[10, 7, 4], [3, 2, 1]])\n",
        "# print the 30th percentile\n",
        "print(\"30th Percentile of b, axis = 0 : \",np.percentile(b, 30, axis =0))"
      ],
      "metadata": {
        "id": "-4kF0ecPy10u",
        "outputId": "23349cb1-ad05-4708-d7a7-7ba887f18407",
        "colab": {
          "base_uri": "https://localhost:8080/"
        }
      },
      "execution_count": 115,
      "outputs": [
        {
          "output_type": "stream",
          "name": "stdout",
          "text": [
            "50th Percentile of a, axis = 0 :  6.0\n",
            "30th Percentile of b, axis = 0 :  [5.1 3.5 1.9]\n"
          ]
        }
      ]
    },
    {
      "cell_type": "markdown",
      "source": [
        "# pandas"
      ],
      "metadata": {
        "id": "Vog64Q5a5qYW"
      }
    },
    {
      "cell_type": "markdown",
      "source": [
        "## read_csv(nrows=n)"
      ],
      "metadata": {
        "id": "wEZ2IHNV7sTe"
      }
    },
    {
      "cell_type": "code",
      "source": [
        "import io\n",
        "import requests\n",
        "import pandas as pd\n",
        "# I am using this online data set just to make things easier for you guys\n",
        "url = \"https://raw.github.com/vincentarelbundock/Rdatasets/master/csv/datasets/AirPassengers.csv\"\n",
        "s = requests.get(url).content\n",
        "# read only first 10 rows\n",
        "df = pd.read_csv(io.StringIO(s.decode('utf-8')),\n",
        "          nrows=10,\n",
        "          index_col=0)"
      ],
      "metadata": {
        "id": "uF5bQOBTzMbq"
      },
      "execution_count": 119,
      "outputs": []
    },
    {
      "cell_type": "markdown",
      "source": [
        "## map()\n",
        "\n",
        "map() can map the values of `series` according to the input."
      ],
      "metadata": {
        "id": "QgOqz8Gj9SgD"
      }
    },
    {
      "cell_type": "code",
      "source": [
        "# create a dataframe\n",
        "dframe = pd.DataFrame(np.random.randn(4, 3), \n",
        "            columns=list('bde'), \n",
        "            index=['India', 'USA', 'China', 'Russia'])\n",
        "#compute a formatted string from each floating point value in frame\n",
        "changefn = lambda x: '%.2f' % x\n",
        "# Make changes element-wise\n",
        "dframe['d'] = dframe['d'].map(changefn)"
      ],
      "metadata": {
        "id": "7BHe6scc-B7X"
      },
      "execution_count": 161,
      "outputs": []
    },
    {
      "cell_type": "markdown",
      "source": [
        "## apply()\n",
        "\n",
        "map() can map the values of `dataframe` according to the input."
      ],
      "metadata": {
        "id": "v-DKXu4w_Ck7"
      }
    },
    {
      "cell_type": "code",
      "source": [
        "# max minus mix lambda fn\n",
        "fn = lambda x: x.max()+x.min()\n",
        "# Apply this on dframe that we've just created above\n",
        "dframe.apply(fn)"
      ],
      "metadata": {
        "id": "hR-nenMn-icj",
        "outputId": "28ec8ce4-a041-431e-c057-614bffb5bf67",
        "colab": {
          "base_uri": "https://localhost:8080/"
        }
      },
      "execution_count": 167,
      "outputs": [
        {
          "output_type": "execute_result",
          "data": {
            "text/plain": [
              "b   -0.261621\n",
              "d    2.180.02\n",
              "e     0.61179\n",
              "dtype: object"
            ]
          },
          "metadata": {},
          "execution_count": 167
        }
      ]
    },
    {
      "cell_type": "markdown",
      "source": [
        "## isin()\n",
        "\n",
        "isin() can select the specific line of specific row"
      ],
      "metadata": {
        "id": "sOdNV-w_Aznx"
      }
    },
    {
      "cell_type": "code",
      "source": [
        "# Using the dataframe we created for read_csv\n",
        "filter1 = df[\"value\"].isin([112]) \n",
        "filter2 = df[\"time\"].isin([1949.000000])\n",
        "df [filter1 & filter2]"
      ],
      "metadata": {
        "id": "5U9NBRIP_NKk",
        "outputId": "1e4c4656-8c8d-4776-99c3-9497be4c5fff",
        "colab": {
          "base_uri": "https://localhost:8080/",
          "height": 81
        }
      },
      "execution_count": 168,
      "outputs": [
        {
          "output_type": "execute_result",
          "data": {
            "text/plain": [
              "     time  value\n",
              "1  1949.0    112"
            ],
            "text/html": [
              "\n",
              "  <div id=\"df-ff707446-75ab-469b-9d4a-22bfdb9672a9\">\n",
              "    <div class=\"colab-df-container\">\n",
              "      <div>\n",
              "<style scoped>\n",
              "    .dataframe tbody tr th:only-of-type {\n",
              "        vertical-align: middle;\n",
              "    }\n",
              "\n",
              "    .dataframe tbody tr th {\n",
              "        vertical-align: top;\n",
              "    }\n",
              "\n",
              "    .dataframe thead th {\n",
              "        text-align: right;\n",
              "    }\n",
              "</style>\n",
              "<table border=\"1\" class=\"dataframe\">\n",
              "  <thead>\n",
              "    <tr style=\"text-align: right;\">\n",
              "      <th></th>\n",
              "      <th>time</th>\n",
              "      <th>value</th>\n",
              "    </tr>\n",
              "  </thead>\n",
              "  <tbody>\n",
              "    <tr>\n",
              "      <th>1</th>\n",
              "      <td>1949.0</td>\n",
              "      <td>112</td>\n",
              "    </tr>\n",
              "  </tbody>\n",
              "</table>\n",
              "</div>\n",
              "      <button class=\"colab-df-convert\" onclick=\"convertToInteractive('df-ff707446-75ab-469b-9d4a-22bfdb9672a9')\"\n",
              "              title=\"Convert this dataframe to an interactive table.\"\n",
              "              style=\"display:none;\">\n",
              "        \n",
              "  <svg xmlns=\"http://www.w3.org/2000/svg\" height=\"24px\"viewBox=\"0 0 24 24\"\n",
              "       width=\"24px\">\n",
              "    <path d=\"M0 0h24v24H0V0z\" fill=\"none\"/>\n",
              "    <path d=\"M18.56 5.44l.94 2.06.94-2.06 2.06-.94-2.06-.94-.94-2.06-.94 2.06-2.06.94zm-11 1L8.5 8.5l.94-2.06 2.06-.94-2.06-.94L8.5 2.5l-.94 2.06-2.06.94zm10 10l.94 2.06.94-2.06 2.06-.94-2.06-.94-.94-2.06-.94 2.06-2.06.94z\"/><path d=\"M17.41 7.96l-1.37-1.37c-.4-.4-.92-.59-1.43-.59-.52 0-1.04.2-1.43.59L10.3 9.45l-7.72 7.72c-.78.78-.78 2.05 0 2.83L4 21.41c.39.39.9.59 1.41.59.51 0 1.02-.2 1.41-.59l7.78-7.78 2.81-2.81c.8-.78.8-2.07 0-2.86zM5.41 20L4 18.59l7.72-7.72 1.47 1.35L5.41 20z\"/>\n",
              "  </svg>\n",
              "      </button>\n",
              "      \n",
              "  <style>\n",
              "    .colab-df-container {\n",
              "      display:flex;\n",
              "      flex-wrap:wrap;\n",
              "      gap: 12px;\n",
              "    }\n",
              "\n",
              "    .colab-df-convert {\n",
              "      background-color: #E8F0FE;\n",
              "      border: none;\n",
              "      border-radius: 50%;\n",
              "      cursor: pointer;\n",
              "      display: none;\n",
              "      fill: #1967D2;\n",
              "      height: 32px;\n",
              "      padding: 0 0 0 0;\n",
              "      width: 32px;\n",
              "    }\n",
              "\n",
              "    .colab-df-convert:hover {\n",
              "      background-color: #E2EBFA;\n",
              "      box-shadow: 0px 1px 2px rgba(60, 64, 67, 0.3), 0px 1px 3px 1px rgba(60, 64, 67, 0.15);\n",
              "      fill: #174EA6;\n",
              "    }\n",
              "\n",
              "    [theme=dark] .colab-df-convert {\n",
              "      background-color: #3B4455;\n",
              "      fill: #D2E3FC;\n",
              "    }\n",
              "\n",
              "    [theme=dark] .colab-df-convert:hover {\n",
              "      background-color: #434B5C;\n",
              "      box-shadow: 0px 1px 3px 1px rgba(0, 0, 0, 0.15);\n",
              "      filter: drop-shadow(0px 1px 2px rgba(0, 0, 0, 0.3));\n",
              "      fill: #FFFFFF;\n",
              "    }\n",
              "  </style>\n",
              "\n",
              "      <script>\n",
              "        const buttonEl =\n",
              "          document.querySelector('#df-ff707446-75ab-469b-9d4a-22bfdb9672a9 button.colab-df-convert');\n",
              "        buttonEl.style.display =\n",
              "          google.colab.kernel.accessAllowed ? 'block' : 'none';\n",
              "\n",
              "        async function convertToInteractive(key) {\n",
              "          const element = document.querySelector('#df-ff707446-75ab-469b-9d4a-22bfdb9672a9');\n",
              "          const dataTable =\n",
              "            await google.colab.kernel.invokeFunction('convertToInteractive',\n",
              "                                                     [key], {});\n",
              "          if (!dataTable) return;\n",
              "\n",
              "          const docLinkHtml = 'Like what you see? Visit the ' +\n",
              "            '<a target=\"_blank\" href=https://colab.research.google.com/notebooks/data_table.ipynb>data table notebook</a>'\n",
              "            + ' to learn more about interactive tables.';\n",
              "          element.innerHTML = '';\n",
              "          dataTable['output_type'] = 'display_data';\n",
              "          await google.colab.output.renderOutput(dataTable, element);\n",
              "          const docLink = document.createElement('div');\n",
              "          docLink.innerHTML = docLinkHtml;\n",
              "          element.appendChild(docLink);\n",
              "        }\n",
              "      </script>\n",
              "    </div>\n",
              "  </div>\n",
              "  "
            ]
          },
          "metadata": {},
          "execution_count": 168
        }
      ]
    },
    {
      "cell_type": "markdown",
      "source": [
        "## copy()\n",
        "copy() can dulipate the dataframe and the value dulipated cannot be changed."
      ],
      "metadata": {
        "id": "S-3SDdxVBuHQ"
      }
    },
    {
      "cell_type": "code",
      "source": [
        "# creating sample series \n",
        "data = pd.Series(['India', 'Pakistan', 'China', 'Mongolia'])\n",
        "# Assigning issue that we face\n",
        "data1= data\n",
        "# Change a value\n",
        "data1[0]='USA'\n",
        "# Also changes value in old dataframe\n",
        "print(data)\n",
        "# To prevent that, we use creating copy of series \n",
        "new = data.copy()\n",
        "# assigning new values \n",
        "new[1]='Changed value'\n",
        "# printing data \n",
        "print(data) "
      ],
      "metadata": {
        "id": "wvdwEeZOBP3G",
        "outputId": "de052d0b-ac04-409a-d8d1-6c25927a6d7f",
        "colab": {
          "base_uri": "https://localhost:8080/"
        }
      },
      "execution_count": 176,
      "outputs": [
        {
          "output_type": "stream",
          "name": "stdout",
          "text": [
            "0         USA\n",
            "1    Pakistan\n",
            "2       China\n",
            "3    Mongolia\n",
            "dtype: object\n",
            "0         USA\n",
            "1    Pakistan\n",
            "2       China\n",
            "3    Mongolia\n",
            "dtype: object\n"
          ]
        }
      ]
    },
    {
      "cell_type": "markdown",
      "source": [
        "## select_dtypes()\n",
        "\n",
        "select_dtypes() can return the subset of specific dayatype."
      ],
      "metadata": {
        "id": "BuWDmNDGClLQ"
      }
    },
    {
      "cell_type": "code",
      "source": [
        "# We'll use the same dataframe that we used for read_csv\n",
        "framex =  df.select_dtypes(exclude=\"float64\")\n",
        "print(framex)\n",
        "framex =  df.select_dtypes(include=\"float64\")\n",
        "print(framex)"
      ],
      "metadata": {
        "id": "kpieTlwaB8yR",
        "outputId": "9b08b393-c9aa-4854-cd4c-a840c368fcd0",
        "colab": {
          "base_uri": "https://localhost:8080/"
        }
      },
      "execution_count": 182,
      "outputs": [
        {
          "output_type": "stream",
          "name": "stdout",
          "text": [
            "    value\n",
            "1     112\n",
            "2     118\n",
            "3     132\n",
            "4     129\n",
            "5     121\n",
            "6     135\n",
            "7     148\n",
            "8     148\n",
            "9     136\n",
            "10    119\n",
            "           time\n",
            "1   1949.000000\n",
            "2   1949.083333\n",
            "3   1949.166667\n",
            "4   1949.250000\n",
            "5   1949.333333\n",
            "6   1949.416667\n",
            "7   1949.500000\n",
            "8   1949.583333\n",
            "9   1949.666667\n",
            "10  1949.750000\n"
          ]
        }
      ]
    },
    {
      "cell_type": "markdown",
      "source": [
        "## pivot_table()\n",
        "\n",
        "pivot_table() can adjust the row and line of raw table."
      ],
      "metadata": {
        "id": "I_GiYmYeDKz1"
      }
    },
    {
      "cell_type": "code",
      "source": [
        "# Create a sample dataframe\n",
        "school = pd.DataFrame({'A': ['Jay', 'Usher', 'Nicky', 'Romero', 'Will'], \n",
        "      'B': ['Masters', 'Graduate', 'Graduate', 'Masters', 'Graduate'], \n",
        "      'C': [26, 22, 20, 23, 24]})\n",
        "# Lets create a pivot table to segregate students based on age and course\n",
        "table = pd.pivot_table(school, \n",
        "             values ='A', \n",
        "             index =['B', 'C'],  \n",
        "             columns =['B'], \n",
        "             aggfunc = np.sum, \n",
        "             fill_value=\"Not Available\") \n",
        "\n",
        "print(table)\n",
        "# table without columns\n",
        "table = pd.pivot_table(school, \n",
        "             values ='A', \n",
        "             index =['B', 'C'],  \n",
        "             aggfunc = np.sum, \n",
        "             fill_value=\"Not Available\") \n",
        "\n",
        "print(table)"
      ],
      "metadata": {
        "id": "BI6Lz5tjCvdZ",
        "outputId": "79d79ef9-31d4-44c8-b30d-9f5dbda4d426",
        "colab": {
          "base_uri": "https://localhost:8080/"
        }
      },
      "execution_count": 186,
      "outputs": [
        {
          "output_type": "stream",
          "name": "stdout",
          "text": [
            "B                 Graduate        Masters\n",
            "B        C                               \n",
            "Graduate 20          Nicky  Not Available\n",
            "         22          Usher  Not Available\n",
            "         24           Will  Not Available\n",
            "Masters  23  Not Available         Romero\n",
            "         26  Not Available            Jay\n",
            "                  A\n",
            "B        C         \n",
            "Graduate 20   Nicky\n",
            "         22   Usher\n",
            "         24    Will\n",
            "Masters  23  Romero\n",
            "         26     Jay\n"
          ]
        }
      ]
    },
    {
      "cell_type": "code",
      "source": [],
      "metadata": {
        "id": "Tcz-wBS1DbH9"
      },
      "execution_count": null,
      "outputs": []
    }
  ]
}